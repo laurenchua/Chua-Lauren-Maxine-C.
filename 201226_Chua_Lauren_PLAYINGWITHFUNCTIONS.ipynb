{
 "cells": [
  {
   "cell_type": "code",
   "execution_count": 2,
   "id": "76d1ca84-3acb-446f-919b-8c9ef91029ac",
   "metadata": {},
   "outputs": [
    {
     "data": {
      "text/plain": [
       "120"
      ]
     },
     "execution_count": 2,
     "metadata": {},
     "output_type": "execute_result"
    }
   ],
   "source": [
    "#1\n",
    "def problem_1(a):\n",
    "    import math\n",
    "    answer = math.factorial(int(a))\n",
    "    return(answer)\n",
    "    \n",
    "problem_1(5)"
   ]
  },
  {
   "cell_type": "code",
   "execution_count": 1,
   "id": "d8f3cf8e-a1f3-4402-ae8f-5e7c28fbc9ad",
   "metadata": {},
   "outputs": [
    {
     "name": "stdin",
     "output_type": "stream",
     "text": [
      "Please enter your guess: lauren\n",
      "Please enter your guess: chums\n"
     ]
    },
    {
     "data": {
      "text/plain": [
       "1"
      ]
     },
     "execution_count": 1,
     "metadata": {},
     "output_type": "execute_result"
    }
   ],
   "source": [
    "#2\n",
    "def problem_2(passphrase):\n",
    "    for i in range (1,4):\n",
    "        a=input(\"Please enter your guess:\")\n",
    "        passphrase=str(\"chums\")\n",
    "        if a==passphrase:\n",
    "            return(1)\n",
    "            break\n",
    "            \n",
    "        else:\n",
    "            if a!= passphrase:\n",
    "                if i==3:\n",
    "                    return(0)\n",
    "                    break\n",
    "problem_2(\"chums\")\n",
    "#source: https://en.wikibooks.org/wiki/Python_Programming/Conditional_Statements"
   ]
  },
  {
   "cell_type": "code",
   "execution_count": 3,
   "id": "f5079beb-963c-470e-a2fd-73f0bf1cc549",
   "metadata": {},
   "outputs": [
    {
     "data": {
      "text/plain": [
       "-418.27"
      ]
     },
     "execution_count": 3,
     "metadata": {},
     "output_type": "execute_result"
    }
   ],
   "source": [
    "#3\n",
    "def problem_3(temp,orig_format,new_format):\n",
    "    \n",
    "    while temp == float(temp):\n",
    "        if orig_format==\"Farenheit\":\n",
    "            if new_format==\"Celsius\":\n",
    "                new_temp=(temp - 32)*(5/9)\n",
    "                return new_temp\n",
    "            elif new_format==\"Kelvin\":\n",
    "                new_temp=(temp-32)*(5/9)+273.15\n",
    "                return new_temp\n",
    "\n",
    "        if orig_format==\"Celsius\":\n",
    "            if new_format==\"Farenheit\":\n",
    "                new_temp=(temp *9/5)+32 \n",
    "                return new_temp\n",
    "            elif new_format==\"Kelvin\":\n",
    "                new_temp=(temp)+273.15\n",
    "                return new_temp\n",
    "\n",
    "        if orig_format==\"Kelvin\":\n",
    "                if new_format==\"Celsius\":\n",
    "                    new_temp=(temp)-273.15 \n",
    "                    return new_temp\n",
    "                elif new_format==\"Farenheit\":\n",
    "                    new_temp=((temp)-273.15) * (9/5)+32\n",
    "                    return new_temp\n",
    "\n",
    "problem_3(23.0, \"Kelvin\", \"Farenheit\")"
   ]
  },
  {
   "cell_type": "code",
   "execution_count": 10,
   "id": "239d8d20-e4b8-407e-919a-f1c71da0c09a",
   "metadata": {},
   "outputs": [
    {
     "name": "stdout",
     "output_type": "stream",
     "text": [
      "1P:0/25C:1/10C:0/5C:1/1C:0\n"
     ]
    }
   ],
   "source": [
    "#4\n",
    "def problem_4(value):\n",
    "    onepeso = int(value/100)\n",
    "    twentyfive=int((value-(onepeso*100))/25)\n",
    "    ten=int((value-(onepeso*100)-(twentyfive*25))/10)\n",
    "    five=int((value - (onepeso*100)-(twentyfive*25)-(ten*10))/5)\n",
    "    one=int(value-(onepeso*100)-(twentyfive*25)-(ten*10)-(five*5))\n",
    "    print(f\"1P:{onepeso}/25C:{twentyfive}/10C:{ten}/5C:{five}/1C:{one}\")\n",
    "\n",
    "problem_4(30)"
   ]
  },
  {
   "cell_type": "code",
   "execution_count": 24,
   "id": "ae477cfe-bfa6-4a43-9e9d-971294bf4333",
   "metadata": {},
   "outputs": [
    {
     "name": "stdout",
     "output_type": "stream",
     "text": [
      "heLlO worLd\n"
     ]
    }
   ],
   "source": [
    "#5\n",
    "def problem_5(string):\n",
    "    \n",
    "    new_format=\"\"\n",
    "    i=0\n",
    "    \n",
    "    while (i<len(string)):\n",
    "        if (string[i] >= 'a' and string[i] <= 'z'):\n",
    "            new_format = new_format+chr((ord(string[i]) - 32))\n",
    " \n",
    "        elif string[i] >= 'A' and string[i] <= 'Z':\n",
    "            new_format = new_format+chr((ord(string[i]) + 32))\n",
    "        \n",
    "        else: \n",
    "            new_format=new_format+string[i]\n",
    "        i=i+1\n",
    "        \n",
    "    print(new_format)\n",
    "\n",
    "problem_5(\"HElLo WORlD\")\n",
    "#source: https://www.tutorialgateway.org/python-program-to-toggle-characters-case-in-a-string/"
   ]
  },
  {
   "cell_type": "code",
   "execution_count": null,
   "id": "107a8729-04db-412a-b9be-d89da14fe201",
   "metadata": {},
   "outputs": [],
   "source": []
  }
 ],
 "metadata": {
  "kernelspec": {
   "display_name": "Python 3",
   "language": "python",
   "name": "python3"
  },
  "language_info": {
   "codemirror_mode": {
    "name": "ipython",
    "version": 3
   },
   "file_extension": ".py",
   "mimetype": "text/x-python",
   "name": "python",
   "nbconvert_exporter": "python",
   "pygments_lexer": "ipython3",
   "version": "3.8.8"
  }
 },
 "nbformat": 4,
 "nbformat_minor": 5
}
