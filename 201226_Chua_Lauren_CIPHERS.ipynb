{
 "cells": [
  {
   "cell_type": "code",
   "execution_count": 99,
   "id": "fdf82e3a-0337-41da-b705-672c5527bcc3",
   "metadata": {},
   "outputs": [
    {
     "data": {
      "text/plain": [
       "'DWWDFN DW GDZQ'"
      ]
     },
     "execution_count": 99,
     "metadata": {},
     "output_type": "execute_result"
    }
   ],
   "source": [
    "def problem_1(message,shift):\n",
    "    new_word = \"\"\n",
    "\n",
    "    for i in message:\n",
    "        if i.isupper():\n",
    "            i_unicode = ord(i)\n",
    "            i_index = ord(i) - ord(\"A\")\n",
    "            new_index = (i_index + shift) % 26\n",
    "            new_unicode = new_index + ord(\"A\")\n",
    "            new_character = chr(new_unicode)\n",
    "            new_word = new_word + new_character\n",
    "        else:\n",
    "            new_word+=i\n",
    "    \n",
    "    return new_word\n",
    "\n",
    "problem_1(\"ATTACK AT DAWN\", 3)\n",
    "#source: https://likegeeks.com/python-caesar-cipher/"
   ]
  },
  {
   "cell_type": "code",
   "execution_count": 114,
   "id": "fda4693c-0412-4a6b-85dc-6b38ca929d6d",
   "metadata": {},
   "outputs": [
    {
     "data": {
      "text/plain": [
       "'IRIANMOGFANEOT__'"
      ]
     },
     "execution_count": 114,
     "metadata": {},
     "output_type": "execute_result"
    }
   ],
   "source": [
    "def problem_2(message,shift):\n",
    "    counter = 0 \n",
    "    message = message.replace(\" \", \"_\")\n",
    "    new_message = \"\"\n",
    "    \n",
    "    while(len(message)%shift)!=0:\n",
    "        message = message + \"_\"\n",
    "    \n",
    "    for i in message:\n",
    "        index = (counter//shift)+(len(message)//shift)*(counter%shift)\n",
    "        cipher=message[index]\n",
    "        new_message = new_message+cipher\n",
    "        counter+=1\n",
    "    \n",
    "    return new_message\n",
    "\n",
    "problem_2(\"INFORMATION_AGE\", 4)"
   ]
  },
  {
   "cell_type": "code",
   "execution_count": 113,
   "id": "2721aa53-aef5-4ee7-9284-e22ceb8bef32",
   "metadata": {},
   "outputs": [
    {
     "data": {
      "text/plain": [
       "'GINABL HT ETCUQ'"
      ]
     },
     "execution_count": 113,
     "metadata": {},
     "output_type": "execute_result"
    }
   ],
   "source": [
    "def problem_3(message,key):\n",
    "    counter = 0 \n",
    "    new_message = \"\"\n",
    "    \n",
    "    if len(message)%len(key)==0:\n",
    "        key_code = (key*(len(message)//len(key)))\n",
    "    elif len(message)%len(key)!=0:\n",
    "        key_code = (key*(len(message)//len(key))) + key [0:(len(message)%len(key))]\n",
    "        \n",
    "    for i in message:\n",
    "        if i != \" \":\n",
    "            code = ord(i)+ (ord(key_code[counter])-65)\n",
    "            if code > 90:\n",
    "                code -= 26\n",
    "        else: \n",
    "            code = ord(i)\n",
    "        cipher = chr(code)\n",
    "        new_message = new_message + cipher \n",
    "        counter+=1\n",
    "    return new_message\n",
    "\n",
    "problem_3(\"FOOBAR IS FUBAR\", \"BUZZ\")"
   ]
  },
  {
   "cell_type": "code",
   "execution_count": 125,
   "id": "689d27e1-9119-48ee-821e-73959a482683",
   "metadata": {},
   "outputs": [
    {
     "data": {
      "text/plain": [
       "'INFORMATION_AGE'"
      ]
     },
     "execution_count": 125,
     "metadata": {},
     "output_type": "execute_result"
    }
   ],
   "source": [
    "def problem_4(message,shift):\n",
    "    codemessage=\"\"\n",
    "    \n",
    "    for i in range (0,len(message)):\n",
    "        place=(i//(len(message)//shift))+shift*(i%(len(message)//shift))\n",
    "        \n",
    "        codemessage+=message[place]\n",
    "    \n",
    "    return codemessage\n",
    "\n",
    "problem_4(\"IMNNA_FTAOIGROE\", 3)"
   ]
  },
  {
   "cell_type": "code",
   "execution_count": null,
   "id": "3a81930c-299e-4458-98ec-5c4464f4950d",
   "metadata": {},
   "outputs": [],
   "source": []
  }
 ],
 "metadata": {
  "kernelspec": {
   "display_name": "Python 3",
   "language": "python",
   "name": "python3"
  },
  "language_info": {
   "codemirror_mode": {
    "name": "ipython",
    "version": 3
   },
   "file_extension": ".py",
   "mimetype": "text/x-python",
   "name": "python",
   "nbconvert_exporter": "python",
   "pygments_lexer": "ipython3",
   "version": "3.8.8"
  }
 },
 "nbformat": 4,
 "nbformat_minor": 5
}
